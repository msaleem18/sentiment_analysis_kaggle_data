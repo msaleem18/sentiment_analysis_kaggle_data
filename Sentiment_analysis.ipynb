{
 "cells": [
  {
   "cell_type": "markdown",
   "metadata": {},
   "source": [
    "# Sentiment Analysis"
   ]
  },
  {
   "cell_type": "code",
   "execution_count": 1,
   "metadata": {},
   "outputs": [
    {
     "name": "stderr",
     "output_type": "stream",
     "text": [
      "Using TensorFlow backend.\n"
     ]
    }
   ],
   "source": [
    "from numpy import array\n",
    "from numpy import asarray\n",
    "from numpy import zeros\n",
    "from keras.preprocessing.text import Tokenizer\n",
    "from keras.preprocessing.sequence import pad_sequences\n",
    "from keras.models import Sequential\n",
    "from keras.layers import Dense\n",
    "from keras.layers import Flatten\n",
    "from keras.layers import Embedding \n",
    "import matplotlib.pyplot as plt\n",
    "\n",
    "import pandas as pd\n",
    "import matplotlib.pyplot as plt\n",
    "import string\n",
    "import re\n",
    "from collections import Counter\n",
    "import numpy as np\n",
    "\n",
    "import nltk\n",
    "from nltk.corpus import stopwords\n",
    "from nltk.stem import PorterStemmer\n",
    "\n",
    "from sklearn.feature_extraction.text import CountVectorizer\n",
    "from sklearn.model_selection import train_test_split\n",
    "from sklearn import preprocessing\n",
    "from sklearn.preprocessing import MultiLabelBinarizer\n",
    "from sklearn.metrics import precision_recall_curve\n",
    "from sklearn.metrics import average_precision_score\n",
    "\n",
    "#from tensorflow.keras import layers\n",
    "#from tensorflow.keras.models import Sequential\n",
    "#from tensorflow.keras.layers import Dense\n",
    "from keras.optimizers import Adam\n",
    "from keras.layers import Dropout\n",
    "from keras.optimizers import SGD, Adadelta, Adagrad\n",
    "from keras.preprocessing.text import Tokenizer\n",
    "from keras.preprocessing.sequence import pad_sequences\n",
    "\n",
    "import sys"
   ]
  },
  {
   "cell_type": "code",
   "execution_count": 2,
   "metadata": {},
   "outputs": [],
   "source": [
    "# load the whole embedding into memory\n",
    "embeddings_index = dict()\n",
    "#first download the glove word emedding and then search for them\n",
    "f = open('glove.6B//glove.6B.100d.txt',encoding=\"utf8\")\n",
    "for line in f:\n",
    "    values = line.split()\n",
    "    word = values[0]\n",
    "    coefs = asarray(values[1:], dtype='float32')\n",
    "    embeddings_index[word] = coefs\n",
    "f.close()"
   ]
  },
  {
   "cell_type": "code",
   "execution_count": 3,
   "metadata": {},
   "outputs": [
    {
     "data": {
      "text/html": [
       "<div>\n",
       "<style scoped>\n",
       "    .dataframe tbody tr th:only-of-type {\n",
       "        vertical-align: middle;\n",
       "    }\n",
       "\n",
       "    .dataframe tbody tr th {\n",
       "        vertical-align: top;\n",
       "    }\n",
       "\n",
       "    .dataframe thead th {\n",
       "        text-align: right;\n",
       "    }\n",
       "</style>\n",
       "<table border=\"1\" class=\"dataframe\">\n",
       "  <thead>\n",
       "    <tr style=\"text-align: right;\">\n",
       "      <th></th>\n",
       "      <th>id</th>\n",
       "      <th>comment_text</th>\n",
       "      <th>toxic</th>\n",
       "      <th>severe_toxic</th>\n",
       "      <th>obscene</th>\n",
       "      <th>threat</th>\n",
       "      <th>insult</th>\n",
       "      <th>identity_hate</th>\n",
       "    </tr>\n",
       "  </thead>\n",
       "  <tbody>\n",
       "    <tr>\n",
       "      <th>0</th>\n",
       "      <td>0000997932d777bf</td>\n",
       "      <td>Explanation\\nWhy the edits made under my usern...</td>\n",
       "      <td>0</td>\n",
       "      <td>0</td>\n",
       "      <td>0</td>\n",
       "      <td>0</td>\n",
       "      <td>0</td>\n",
       "      <td>0</td>\n",
       "    </tr>\n",
       "    <tr>\n",
       "      <th>1</th>\n",
       "      <td>000103f0d9cfb60f</td>\n",
       "      <td>D'aww! He matches this background colour I'm s...</td>\n",
       "      <td>0</td>\n",
       "      <td>0</td>\n",
       "      <td>0</td>\n",
       "      <td>0</td>\n",
       "      <td>0</td>\n",
       "      <td>0</td>\n",
       "    </tr>\n",
       "    <tr>\n",
       "      <th>2</th>\n",
       "      <td>000113f07ec002fd</td>\n",
       "      <td>Hey man, I'm really not trying to edit war. It...</td>\n",
       "      <td>0</td>\n",
       "      <td>0</td>\n",
       "      <td>0</td>\n",
       "      <td>0</td>\n",
       "      <td>0</td>\n",
       "      <td>0</td>\n",
       "    </tr>\n",
       "    <tr>\n",
       "      <th>3</th>\n",
       "      <td>0001b41b1c6bb37e</td>\n",
       "      <td>\"\\nMore\\nI can't make any real suggestions on ...</td>\n",
       "      <td>0</td>\n",
       "      <td>0</td>\n",
       "      <td>0</td>\n",
       "      <td>0</td>\n",
       "      <td>0</td>\n",
       "      <td>0</td>\n",
       "    </tr>\n",
       "    <tr>\n",
       "      <th>4</th>\n",
       "      <td>0001d958c54c6e35</td>\n",
       "      <td>You, sir, are my hero. Any chance you remember...</td>\n",
       "      <td>0</td>\n",
       "      <td>0</td>\n",
       "      <td>0</td>\n",
       "      <td>0</td>\n",
       "      <td>0</td>\n",
       "      <td>0</td>\n",
       "    </tr>\n",
       "  </tbody>\n",
       "</table>\n",
       "</div>"
      ],
      "text/plain": [
       "                 id                                       comment_text  toxic  \\\n",
       "0  0000997932d777bf  Explanation\\nWhy the edits made under my usern...      0   \n",
       "1  000103f0d9cfb60f  D'aww! He matches this background colour I'm s...      0   \n",
       "2  000113f07ec002fd  Hey man, I'm really not trying to edit war. It...      0   \n",
       "3  0001b41b1c6bb37e  \"\\nMore\\nI can't make any real suggestions on ...      0   \n",
       "4  0001d958c54c6e35  You, sir, are my hero. Any chance you remember...      0   \n",
       "\n",
       "   severe_toxic  obscene  threat  insult  identity_hate  \n",
       "0             0        0       0       0              0  \n",
       "1             0        0       0       0              0  \n",
       "2             0        0       0       0              0  \n",
       "3             0        0       0       0              0  \n",
       "4             0        0       0       0              0  "
      ]
     },
     "execution_count": 3,
     "metadata": {},
     "output_type": "execute_result"
    }
   ],
   "source": [
    "df = pd.read_csv(\"//Users//saad//Saad//Education//Ryerson//DS8008 NLP//lab06//dataset.csv\")\n",
    "df.head(5)"
   ]
  },
  {
   "cell_type": "code",
   "execution_count": 4,
   "metadata": {},
   "outputs": [
    {
     "data": {
      "text/plain": [
       "comment_text     object\n",
       "toxic             int64\n",
       "severe_toxic      int64\n",
       "obscene           int64\n",
       "threat            int64\n",
       "insult            int64\n",
       "identity_hate     int64\n",
       "dtype: object"
      ]
     },
     "execution_count": 4,
     "metadata": {},
     "output_type": "execute_result"
    }
   ],
   "source": [
    "#shuffel data\n",
    "np.random.seed(0)\n",
    "df_shuffeld = df.sample(frac=1,random_state=0)\n",
    "df_new = df_shuffeld.drop(columns=['id'])\n",
    "df_new.head(5)\n",
    "df_new.dtypes"
   ]
  },
  {
   "cell_type": "code",
   "execution_count": 5,
   "metadata": {},
   "outputs": [
    {
     "data": {
      "text/html": [
       "<div>\n",
       "<style scoped>\n",
       "    .dataframe tbody tr th:only-of-type {\n",
       "        vertical-align: middle;\n",
       "    }\n",
       "\n",
       "    .dataframe tbody tr th {\n",
       "        vertical-align: top;\n",
       "    }\n",
       "\n",
       "    .dataframe thead th {\n",
       "        text-align: right;\n",
       "    }\n",
       "</style>\n",
       "<table border=\"1\" class=\"dataframe\">\n",
       "  <thead>\n",
       "    <tr style=\"text-align: right;\">\n",
       "      <th></th>\n",
       "      <th>comment_text</th>\n",
       "      <th>toxic</th>\n",
       "      <th>severe_toxic</th>\n",
       "      <th>obscene</th>\n",
       "      <th>threat</th>\n",
       "      <th>insult</th>\n",
       "      <th>identity_hate</th>\n",
       "      <th>comment_text_clean</th>\n",
       "    </tr>\n",
       "  </thead>\n",
       "  <tbody>\n",
       "    <tr>\n",
       "      <th>74251</th>\n",
       "      <td>\"\\nI haven't paraphrased you at all, Gary.  Yo...</td>\n",
       "      <td>0</td>\n",
       "      <td>0</td>\n",
       "      <td>0</td>\n",
       "      <td>0</td>\n",
       "      <td>0</td>\n",
       "      <td>0</td>\n",
       "      <td>`` I have n't paraphras you at all gari you co...</td>\n",
       "    </tr>\n",
       "    <tr>\n",
       "      <th>131406</th>\n",
       "      <td>I BLOCKED REVERS! I BLOCKED REVERS! I BLOCKED ...</td>\n",
       "      <td>1</td>\n",
       "      <td>0</td>\n",
       "      <td>0</td>\n",
       "      <td>0</td>\n",
       "      <td>0</td>\n",
       "      <td>0</td>\n",
       "      <td>I block rever I block rever I block rever I bl...</td>\n",
       "    </tr>\n",
       "    <tr>\n",
       "      <th>120969</th>\n",
       "      <td>I'm sorry. I'd like to unreservedly retract my...</td>\n",
       "      <td>0</td>\n",
       "      <td>0</td>\n",
       "      <td>0</td>\n",
       "      <td>0</td>\n",
       "      <td>1</td>\n",
       "      <td>0</td>\n",
       "      <td>I 'm sorri I 'd like to unreservedli retract m...</td>\n",
       "    </tr>\n",
       "    <tr>\n",
       "      <th>121827</th>\n",
       "      <td>I don't know if this is exactly like the Press...</td>\n",
       "      <td>0</td>\n",
       "      <td>0</td>\n",
       "      <td>0</td>\n",
       "      <td>0</td>\n",
       "      <td>0</td>\n",
       "      <td>0</td>\n",
       "      <td>I do n't know if thi is exactli like the press...</td>\n",
       "    </tr>\n",
       "    <tr>\n",
       "      <th>4771</th>\n",
       "      <td>Thank you all, we'll all improve the Wikipedia...</td>\n",
       "      <td>0</td>\n",
       "      <td>0</td>\n",
       "      <td>0</td>\n",
       "      <td>0</td>\n",
       "      <td>0</td>\n",
       "      <td>0</td>\n",
       "      <td>thank you all we 'll all improv the wikipedia ...</td>\n",
       "    </tr>\n",
       "  </tbody>\n",
       "</table>\n",
       "</div>"
      ],
      "text/plain": [
       "                                             comment_text  toxic  \\\n",
       "74251   \"\\nI haven't paraphrased you at all, Gary.  Yo...      0   \n",
       "131406  I BLOCKED REVERS! I BLOCKED REVERS! I BLOCKED ...      1   \n",
       "120969  I'm sorry. I'd like to unreservedly retract my...      0   \n",
       "121827  I don't know if this is exactly like the Press...      0   \n",
       "4771    Thank you all, we'll all improve the Wikipedia...      0   \n",
       "\n",
       "        severe_toxic  obscene  threat  insult  identity_hate  \\\n",
       "74251              0        0       0       0              0   \n",
       "131406             0        0       0       0              0   \n",
       "120969             0        0       0       1              0   \n",
       "121827             0        0       0       0              0   \n",
       "4771               0        0       0       0              0   \n",
       "\n",
       "                                       comment_text_clean  \n",
       "74251   `` I have n't paraphras you at all gari you co...  \n",
       "131406  I block rever I block rever I block rever I bl...  \n",
       "120969  I 'm sorri I 'd like to unreservedli retract m...  \n",
       "121827  I do n't know if thi is exactli like the press...  \n",
       "4771    thank you all we 'll all improv the wikipedia ...  "
      ]
     },
     "execution_count": 5,
     "metadata": {},
     "output_type": "execute_result"
    }
   ],
   "source": [
    "#text cleaning\n",
    "sys.setrecursionlimit(5000)\n",
    "\n",
    "punctuationList=list(string.punctuation)\n",
    "def myTokenizer_modified(doc):\n",
    "    stemmer = PorterStemmer()\n",
    "    #return_doc = []\n",
    "    #for doc in textData:\n",
    "    #doc = str(doc)\n",
    "    stemmedWords=[stemmer.stem(w) for w in nltk.word_tokenize(doc) if w not in punctuationList]\n",
    "    new_text = ' '.join(stemmedWords)\n",
    "    #return_doc.append(new_text)\n",
    "     \n",
    "    return  new_text\n",
    "\n",
    "df_new['comment_text_clean'] = df_new.comment_text.apply(lambda x: myTokenizer_modified(x))\n",
    "df_new.head(5)\n",
    "\n"
   ]
  },
  {
   "cell_type": "code",
   "execution_count": 6,
   "metadata": {},
   "outputs": [
    {
     "name": "stdout",
     "output_type": "stream",
     "text": [
      "(159571,)\n",
      "(159571, 6)\n"
     ]
    }
   ],
   "source": [
    "array_comments = df_new['comment_text_clean'].values\n",
    "array_comments_clean = array_comments.astype(str)\n",
    "#array_comments = np.array2string(array_comments)\n",
    "array_all_labels = df_new[['toxic','severe_toxic','obscene','threat','insult','identity_hate']].values\n",
    "#array_comments_clean = myTokenizer_modified(array_comments)\n",
    "print(array_comments_clean.shape)\n",
    "print(array_all_labels.shape)"
   ]
  },
  {
   "cell_type": "code",
   "execution_count": 7,
   "metadata": {},
   "outputs": [
    {
     "name": "stdout",
     "output_type": "stream",
     "text": [
      "shape padded_comments 159571,1403\n"
     ]
    }
   ],
   "source": [
    "t_comments = Tokenizer()\n",
    "t_comments.fit_on_texts(array_comments_clean)\n",
    "vocab_size_comments = len(t_comments.word_index) + 1\n",
    "encoded_comments = t_comments.texts_to_sequences(array_comments_clean)\n",
    "\n",
    "max_len = 0\n",
    "for doc in encoded_comments:\n",
    "    len_of_doc = len(doc)\n",
    "    if len_of_doc > max_len:\n",
    "        max_len = len_of_doc\n",
    "\n",
    "padded_comments = pad_sequences(encoded_comments, maxlen=max_len, padding='post')\n",
    "print (\"shape padded_comments %d,%d\" % (padded_comments.shape[0],padded_comments.shape[1]))"
   ]
  },
  {
   "cell_type": "code",
   "execution_count": 8,
   "metadata": {},
   "outputs": [
    {
     "name": "stdout",
     "output_type": "stream",
     "text": [
      "shape embedding_matrix_comments 165822,100\n"
     ]
    }
   ],
   "source": [
    "# Initialize a matrix with zeros having dimensions equivalent to vocab size and 100\n",
    "embedding_matrix_comments = zeros((vocab_size_comments, 100))\n",
    "# Iterate over words and their indexes in our data\n",
    "for word, idx_word in t_comments.word_index.items():\n",
    "    # get embedding vectors for the word in our training data\n",
    "    embedding_vector = embeddings_index.get(word)\n",
    "    if embedding_vector is not None:\n",
    "        #insert it in the matrix at the index of the word\n",
    "        embedding_matrix_comments[idx_word] = embedding_vector\n",
    "print (\"shape embedding_matrix_comments %d,%d\" % (embedding_matrix_comments.shape[0],embedding_matrix_comments.shape[1]))"
   ]
  },
  {
   "cell_type": "code",
   "execution_count": 9,
   "metadata": {},
   "outputs": [
    {
     "name": "stderr",
     "output_type": "stream",
     "text": [
      "/anaconda3/lib/python3.6/site-packages/sklearn/model_selection/_split.py:2026: FutureWarning: From version 0.21, test_size will always complement train_size unless both are specified.\n",
      "  FutureWarning)\n"
     ]
    }
   ],
   "source": [
    "#split data\n",
    "comments_train, comments_test, label_train, label_test = train_test_split(padded_comments, array_all_labels, train_size=0.8)"
   ]
  },
  {
   "cell_type": "code",
   "execution_count": 10,
   "metadata": {},
   "outputs": [
    {
     "name": "stdout",
     "output_type": "stream",
     "text": [
      "_________________________________________________________________\n",
      "Layer (type)                 Output Shape              Param #   \n",
      "=================================================================\n",
      "embedding_1 (Embedding)      (None, 1403, 100)         16582200  \n",
      "_________________________________________________________________\n",
      "flatten_1 (Flatten)          (None, 140300)            0         \n",
      "_________________________________________________________________\n",
      "dense_1 (Dense)              (None, 80)                11224080  \n",
      "_________________________________________________________________\n",
      "dense_2 (Dense)              (None, 50)                4050      \n",
      "_________________________________________________________________\n",
      "dense_3 (Dense)              (None, 30)                1530      \n",
      "_________________________________________________________________\n",
      "dense_4 (Dense)              (None, 6)                 186       \n",
      "=================================================================\n",
      "Total params: 27,812,046\n",
      "Trainable params: 11,229,846\n",
      "Non-trainable params: 16,582,200\n",
      "_________________________________________________________________\n",
      "None\n"
     ]
    }
   ],
   "source": [
    "# define model\n",
    "model_comments = Sequential()\n",
    "e = Embedding(vocab_size_comments, 100, weights=[embedding_matrix_comments], input_length=max_len, trainable=False)\n",
    "model_comments.add(e)\n",
    "model_comments.add(Flatten())\n",
    "model_comments.add(Dense(80, activation='relu'))\n",
    "model_comments.add(Dense(50, activation='relu'))\n",
    "model_comments.add(Dense(30, activation='relu'))\n",
    "#model_comments.add(Dense(20, activation='relu'))\n",
    "model_comments.add(Dense(array_all_labels.shape[1], activation='sigmoid'))\n",
    "# compile the model\n",
    "model_comments.compile(optimizer='sgd', loss='binary_crossentropy', metrics=['acc'])\n",
    "# summarize the model\n",
    "print(model_comments.summary())"
   ]
  },
  {
   "cell_type": "code",
   "execution_count": 12,
   "metadata": {},
   "outputs": [
    {
     "name": "stdout",
     "output_type": "stream",
     "text": [
      "Train on 127656 samples, validate on 31915 samples\n",
      "Epoch 1/3\n",
      "127656/127656 [==============================] - 150s 1ms/step - loss: 0.2043 - acc: 0.9633 - val_loss: 0.1921 - val_acc: 0.9633\n",
      "Epoch 2/3\n",
      "127656/127656 [==============================] - 150s 1ms/step - loss: 0.1845 - acc: 0.9633 - val_loss: 0.1786 - val_acc: 0.9633\n",
      "Epoch 3/3\n",
      "127656/127656 [==============================] - 149s 1ms/step - loss: 0.1739 - acc: 0.9633 - val_loss: 0.1704 - val_acc: 0.9634\n"
     ]
    }
   ],
   "source": [
    "# Fit the model\n",
    "history_comments = model_comments.fit(comments_train, label_train, epochs=3, batch_size=5000, validation_data=(comments_test, label_test))\n",
    "\n",
    "\n"
   ]
  },
  {
   "cell_type": "code",
   "execution_count": 13,
   "metadata": {},
   "outputs": [
    {
     "data": {
      "image/png": "[encoded data removed]",
      "text/plain": [
       "<Figure size 432x288 with 1 Axes>"
      ]
     },
     "metadata": {},
     "output_type": "display_data"
    }
   ],
   "source": [
    "plt.clf()\n",
    "acc = history_comments.history['acc']\n",
    "epochs = range(1, len(acc) + 1)\n",
    "val_acc = history_comments.history['val_acc']\n",
    "plt.plot(epochs, acc, 'bo', label='Training acc')\n",
    "plt.plot(epochs, val_acc, 'b', label='Validation acc')\n",
    "plt.title('Training and validation accuracy')\n",
    "plt.xlabel('Epochs')\n",
    "plt.ylabel('Acc')\n",
    "plt.legend()\n",
    "plt.show()"
   ]
  },
  {
   "cell_type": "code",
   "execution_count": 14,
   "metadata": {},
   "outputs": [
    {
     "data": {
      "text/plain": [
       "(31915, 6)"
      ]
     },
     "execution_count": 14,
     "metadata": {},
     "output_type": "execute_result"
    }
   ],
   "source": [
    "predictions = model_comments.predict(comments_test)\n",
    "predictions[predictions>=0.5] = 1\n",
    "predictions[predictions<0.5] = 0\n",
    "predictions.shape"
   ]
  },
  {
   "cell_type": "code",
   "execution_count": 15,
   "metadata": {},
   "outputs": [
    {
     "name": "stdout",
     "output_type": "stream",
     "text": [
      "avg accuracy: 0.8989033369888767\n",
      "min accuracy: 0.0\n",
      "max accuracy: 1\n"
     ]
    }
   ],
   "source": [
    "#acc calc\n",
    "row_acc2 = []\n",
    "\n",
    "for row in range(predictions.shape[0]):\n",
    "    acc_per_row = 0\n",
    "    sum_num_of_labels = np.sum(label_test[row])\n",
    "    sum_num_of_pred = np.sum(predictions[row])\n",
    "    for col in range(predictions.shape[1]):\n",
    "        \n",
    "        if predictions[row][col] == label_test[row][col] and label_test[row][col] == 1:\n",
    "            acc_per_row += 1\n",
    "        \n",
    "    if sum_num_of_labels == 0:\n",
    "        if sum_num_of_pred == 0:\n",
    "            row_acc2.append(1)\n",
    "        else:\n",
    "            row_acc2.append(0)\n",
    "    else:\n",
    "        row_acc2.append(acc_per_row/sum_num_of_labels)\n",
    "    \n",
    "    \n",
    "col_acc = []\n",
    "for col in range(predictions.shape[1]):\n",
    "    acc_per_col = 0\n",
    "    sum_num_of_labels_col = np.sum(label_test[:,col])\n",
    "    sum_num_of_pred_col = np.sum(predictions[:,col])\n",
    "    for row in range(predictions.shape[0]):\n",
    "        \n",
    "        if predictions[row][col] == label_test[row][col] and label_test[row][col] == 1:\n",
    "            acc_per_col += 1\n",
    "            \n",
    "    if sum_num_of_labels_col == 0:\n",
    "        if sum_num_of_pred_col == 0:\n",
    "            col_acc.append(1)\n",
    "        else:\n",
    "            col_acc.append(0)\n",
    "    else:\n",
    "        col_acc.append(acc_per_col/sum_num_of_labels_col)\n",
    "    \n",
    "avg_acc = sum(row_acc2) / len(row_acc2) \n",
    "print(\"avg accuracy: %s\" % avg_acc)\n",
    "print (\"min accuracy: %s\" % min(row_acc2))\n",
    "print (\"max accuracy: %s\" % max(row_acc2))"
   ]
  },
  {
   "cell_type": "code",
   "execution_count": null,
   "metadata": {},
   "outputs": [],
   "source": []
  },
  {
   "cell_type": "code",
   "execution_count": null,
   "metadata": {},
   "outputs": [],
   "source": []
  },
  {
   "cell_type": "code",
   "execution_count": null,
   "metadata": {},
   "outputs": [],
   "source": []
  }
 ],
 "metadata": {
  "kernelspec": {
   "display_name": "Python 3",
   "language": "python",
   "name": "python3"
  },
  "language_info": {
   "codemirror_mode": {
    "name": "ipython",
    "version": 3
   },
   "file_extension": ".py",
   "mimetype": "text/x-python",
   "name": "python",
   "nbconvert_exporter": "python",
   "pygments_lexer": "ipython3",
   "version": "3.7.3"
  }
 },
 "nbformat": 4,
 "nbformat_minor": 2
}
